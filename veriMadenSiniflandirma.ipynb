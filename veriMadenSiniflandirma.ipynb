{
 "cells": [
  {
   "cell_type": "code",
   "execution_count": 1,
   "metadata": {},
   "outputs": [],
   "source": [
    "import pandas as pd \n",
    "data = pd.read_csv(\"ornek_dataset.txt\", engine='python')"
   ]
  },
  {
   "cell_type": "code",
   "execution_count": 2,
   "metadata": {},
   "outputs": [
    {
     "output_type": "stream",
     "name": "stdout",
     "text": "Sentence  NegPos\n0  ÃœrÃ¼nÃ¼ kargo teslim sÃ¼resi iÃ§erisinde tesl...       0\n1  Elime ulaÅŸtÄ±ÄŸÄ± ilk gÃ¼n kullanmaya baÅŸlad...       0\n2  Ä°ncecik bir ssd disk a3 zarf iÃ§erisine konur...       0\n3  Ä°landa Ã¼rÃ¼n korea yazÄ±yor gelen Ã¼rÃ¼n cin...       0\n4  BÃ¼yÃ¼k hevesle almama raÄŸmen Ã¼rÃ¼n bozuk Ã§...       0\n5  Fiyat performans ve gÃ¼ncel sayÄ±labilecek iÅŸ...       1\n6      GÃ¼zel fp Ã¼rÃ¼nÃ¼ Ã§ok memnun kaldÄ±m tskler       1\n7  Macbook Pro mid. 2012 bilgisayarÄ±m iÃ§in aldÄ...       1\n8  Windows10 sÄ±fÄ±rdan yÃ¼klemesi 1dk sÃ¼rdÃ¼ pc...       1\n9  Bilgisayar ÅŸuan aldÄ±ÄŸÄ±mdan 5 kat daha hÄ±z...       1\n"
    }
   ],
   "source": [
    "print(data)"
   ]
  },
  {
   "cell_type": "code",
   "execution_count": 3,
   "metadata": {},
   "outputs": [],
   "source": [
    "sentences_training = [doc for doc in data.iloc[:,0]]\n",
    "classification_training = [doc for doc in data.iloc[:,1]]"
   ]
  },
  {
   "cell_type": "code",
   "execution_count": 4,
   "metadata": {},
   "outputs": [],
   "source": [
    "from sklearn.feature_extraction.text import TfidfVectorizer\n",
    "vectorizer = TfidfVectorizer(analyzer='word', lowercase = True)"
   ]
  },
  {
   "cell_type": "code",
   "execution_count": 5,
   "metadata": {},
   "outputs": [],
   "source": [
    "sen_train_vector = vectorizer.fit_transform(sentences_training)"
   ]
  },
  {
   "cell_type": "code",
   "execution_count": 6,
   "metadata": {},
   "outputs": [
    {
     "output_type": "stream",
     "name": "stdout",
     "text": "[[0.         0.         0.         ... 0.         0.         0.        ]\n [0.         0.         0.         ... 0.         0.         0.        ]\n [0.         0.         0.         ... 0.         0.         0.        ]\n ...\n [0.         0.1760758  0.         ... 0.         0.         0.        ]\n [0.19783556 0.         0.19783556 ... 0.         0.         0.        ]\n [0.         0.         0.         ... 0.         0.17217565 0.17217565]]\n"
    }
   ],
   "source": [
    "print(sen_train_vector.toarray())"
   ]
  },
  {
   "cell_type": "code",
   "execution_count": 9,
   "metadata": {},
   "outputs": [],
   "source": [
    "from sklearn.naive_bayes import GaussianNB\n",
    "clf = GaussianNB()\n",
    "model = clf.fit(X=sen_train_vector.toarray(), y=classification_training)"
   ]
  },
  {
   "cell_type": "code",
   "execution_count": 10,
   "metadata": {},
   "outputs": [
    {
     "output_type": "stream",
     "name": "stdout",
     "text": "[0]\n"
    }
   ],
   "source": [
    "sen_test_vector = vectorizer.transform(['bu kadar kötü bir ürün görmedim'])\n",
    "#print(sen_test_vector.toarray())\n",
    "y_pred = model.predict(sen_test_vector.toarray())\n",
    "print(y_pred)"
   ]
  },
  {
   "cell_type": "code",
   "execution_count": 11,
   "metadata": {},
   "outputs": [
    {
     "output_type": "stream",
     "name": "stdout",
     "text": "[1]\n"
    }
   ],
   "source": [
    "sen_test_vector = vectorizer.transform(['iyi bir ürünmüş.'])\n",
    "y_pred = model.predict(sen_test_vector.toarray())\n",
    "print(y_pred)"
   ]
  },
  {
   "cell_type": "code",
   "execution_count": null,
   "metadata": {},
   "outputs": [],
   "source": []
  }
 ],
 "metadata": {
  "kernelspec": {
   "display_name": "Python 3",
   "language": "python",
   "name": "python3"
  },
  "language_info": {
   "codemirror_mode": {
    "name": "ipython",
    "version": 3
   },
   "file_extension": ".py",
   "mimetype": "text/x-python",
   "name": "python",
   "nbconvert_exporter": "python",
   "pygments_lexer": "ipython3",
   "version": "3.7.6-final"
  }
 },
 "nbformat": 4,
 "nbformat_minor": 4
}