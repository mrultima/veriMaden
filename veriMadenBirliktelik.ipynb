{
 "cells": [
  {
   "cell_type": "code",
   "execution_count": 44,
   "metadata": {},
   "outputs": [],
   "source": [
    "#Importing Modules\n",
    "import pandas as pd\n",
    "import numpy as np\n",
    "\n",
    "from mlxtend.preprocessing import TransactionEncoder\n",
    "from mlxtend.frequent_patterns import apriori\n",
    "from mlxtend.frequent_patterns import association_rules\n",
    "\n",
    "import mlxtend as ml\n",
    "#print(ml.__version__)"
   ]
  },
  {
   "cell_type": "code",
   "execution_count": 46,
   "metadata": {},
   "outputs": [],
   "source": [
    "dataset = []\n",
    "\n",
    "import random\n",
    "\n",
    "items = ['Elma','Mısır','Zeytin','Yumurta',\n",
    "         'Dondurma','Çikolata','Süt','Nugget',\n",
    "         'Soğan','Çilek','Yoğurt', 'Ekmek', \n",
    "         'Peynir', 'Tereyağ', 'Şeker','Armut']\n",
    "\n",
    "for i in range(1, 1000):\n",
    "    k = random.randrange(1, len(items)+1)\n",
    "    #print('K Values:', k)\n",
    "    dataset.append(random.choices(items, k=k))\n",
    "    #print(random.sample(items, k=k))\n",
    "    \n",
    "    #liste.append(random.sample(items, k=k))\n",
    "    #print(random.sample(items, k=k))\n",
    "\n",
    "    #random.sample\n",
    "    #dataset.append(random.sample(items, k=k))\n",
    "    #print(random.sample(items, k=k))"
   ]
  },
  {
   "cell_type": "code",
   "execution_count": 33,
   "metadata": {},
   "outputs": [
    {
     "output_type": "stream",
     "name": "stdout",
     "text": "999\n"
    }
   ],
   "source": [
    "print(len(dataset))\n"
   ]
  },
  {
   "cell_type": "code",
   "execution_count": 47,
   "metadata": {},
   "outputs": [
    {
     "output_type": "stream",
     "name": "stdout",
     "text": "[['Süt', 'Çilek', 'Armut', 'Dondurma', 'Soğan', 'Peynir', 'Dondurma'], ['Süt', 'Nugget', 'Şeker', 'Yoğurt', 'Süt', 'Çikolata', 'Yumurta'], ['Şeker', 'Çilek', 'Süt', 'Süt', 'Tereyağ'], ['Yumurta', 'Peynir', 'Elma', 'Dondurma', 'Yoğurt', 'Şeker', 'Yumurta', 'Mısır', 'Ekmek', 'Çikolata', 'Armut', 'Çikolata', 'Tereyağ', 'Süt', 'Çilek', 'Ekmek']]\n"
    }
   ],
   "source": [
    "print(dataset[1:5])"
   ]
  },
  {
   "cell_type": "code",
   "execution_count": 48,
   "metadata": {},
   "outputs": [
    {
     "output_type": "stream",
     "name": "stdout",
     "text": "[['Ekmek', 'Dondurma', 'Armut', 'Nugget', 'Elma', 'Yoğurt', 'Şeker', 'Zeytin', 'Peynir', 'Nugget', 'Zeytin'], ['Çikolata', 'Zeytin', 'Armut', 'Mısır', 'Zeytin'], ['Soğan', 'Mısır', 'Süt', 'Çikolata'], ['Zeytin', 'Zeytin', 'Dondurma', 'Yumurta', 'Mısır', 'Çilek', 'Yumurta']]\n"
    }
   ],
   "source": [
    "print(dataset[995:(len(dataset)+1)])"
   ]
  },
  {
   "cell_type": "code",
   "execution_count": 51,
   "metadata": {},
   "outputs": [],
   "source": [
    "te = TransactionEncoder()\n",
    "te_ary = te.fit(dataset).transform(dataset)\n",
    "df = pd.DataFrame(te_ary, columns=te.columns_)"
   ]
  },
  {
   "cell_type": "code",
   "execution_count": 52,
   "metadata": {},
   "outputs": [
    {
     "output_type": "execute_result",
     "data": {
      "text/plain": "   Armut  Dondurma  Ekmek   Elma  Mısır  Nugget  Peynir  Soğan    Süt  \\\n0   True      True  False   True  False   False   False  False  False   \n1   True      True  False  False  False   False    True   True   True   \n2  False     False  False  False  False    True   False  False   True   \n3  False     False  False  False  False   False   False  False   True   \n4   True      True   True   True   True   False    True  False   True   \n\n   Tereyağ  Yoğurt  Yumurta  Zeytin  Çikolata  Çilek  Şeker  \n0    False    True    False   False     False   True  False  \n1    False   False    False   False     False   True  False  \n2    False    True     True   False      True  False   True  \n3     True   False    False   False     False   True   True  \n4     True    True     True   False      True   True   True  ",
      "text/html": "<div>\n<style scoped>\n    .dataframe tbody tr th:only-of-type {\n        vertical-align: middle;\n    }\n\n    .dataframe tbody tr th {\n        vertical-align: top;\n    }\n\n    .dataframe thead th {\n        text-align: right;\n    }\n</style>\n<table border=\"1\" class=\"dataframe\">\n  <thead>\n    <tr style=\"text-align: right;\">\n      <th></th>\n      <th>Armut</th>\n      <th>Dondurma</th>\n      <th>Ekmek</th>\n      <th>Elma</th>\n      <th>Mısır</th>\n      <th>Nugget</th>\n      <th>Peynir</th>\n      <th>Soğan</th>\n      <th>Süt</th>\n      <th>Tereyağ</th>\n      <th>Yoğurt</th>\n      <th>Yumurta</th>\n      <th>Zeytin</th>\n      <th>Çikolata</th>\n      <th>Çilek</th>\n      <th>Şeker</th>\n    </tr>\n  </thead>\n  <tbody>\n    <tr>\n      <th>0</th>\n      <td>True</td>\n      <td>True</td>\n      <td>False</td>\n      <td>True</td>\n      <td>False</td>\n      <td>False</td>\n      <td>False</td>\n      <td>False</td>\n      <td>False</td>\n      <td>False</td>\n      <td>True</td>\n      <td>False</td>\n      <td>False</td>\n      <td>False</td>\n      <td>True</td>\n      <td>False</td>\n    </tr>\n    <tr>\n      <th>1</th>\n      <td>True</td>\n      <td>True</td>\n      <td>False</td>\n      <td>False</td>\n      <td>False</td>\n      <td>False</td>\n      <td>True</td>\n      <td>True</td>\n      <td>True</td>\n      <td>False</td>\n      <td>False</td>\n      <td>False</td>\n      <td>False</td>\n      <td>False</td>\n      <td>True</td>\n      <td>False</td>\n    </tr>\n    <tr>\n      <th>2</th>\n      <td>False</td>\n      <td>False</td>\n      <td>False</td>\n      <td>False</td>\n      <td>False</td>\n      <td>True</td>\n      <td>False</td>\n      <td>False</td>\n      <td>True</td>\n      <td>False</td>\n      <td>True</td>\n      <td>True</td>\n      <td>False</td>\n      <td>True</td>\n      <td>False</td>\n      <td>True</td>\n    </tr>\n    <tr>\n      <th>3</th>\n      <td>False</td>\n      <td>False</td>\n      <td>False</td>\n      <td>False</td>\n      <td>False</td>\n      <td>False</td>\n      <td>False</td>\n      <td>False</td>\n      <td>True</td>\n      <td>True</td>\n      <td>False</td>\n      <td>False</td>\n      <td>False</td>\n      <td>False</td>\n      <td>True</td>\n      <td>True</td>\n    </tr>\n    <tr>\n      <th>4</th>\n      <td>True</td>\n      <td>True</td>\n      <td>True</td>\n      <td>True</td>\n      <td>True</td>\n      <td>False</td>\n      <td>True</td>\n      <td>False</td>\n      <td>True</td>\n      <td>True</td>\n      <td>True</td>\n      <td>True</td>\n      <td>False</td>\n      <td>True</td>\n      <td>True</td>\n      <td>True</td>\n    </tr>\n  </tbody>\n</table>\n</div>"
     },
     "metadata": {},
     "execution_count": 52
    }
   ],
   "source": [
    "df.head()\n"
   ]
  },
  {
   "cell_type": "code",
   "execution_count": 58,
   "metadata": {},
   "outputs": [
    {
     "output_type": "execute_result",
     "data": {
      "text/plain": "     support itemsets\n1   0.407407      (1)\n2   0.400400      (2)\n3   0.398398      (3)\n4   0.390390      (4)\n5   0.378378      (5)\n6   0.378378      (6)\n7   0.408408      (7)\n8   0.376376      (8)\n9   0.431431      (9)\n10  0.411411     (10)\n11  0.401401     (11)\n12  0.400400     (12)\n13  0.381381     (13)\n14  0.414414     (14)\n15  0.399399     (15)\n16  0.174174   (0, 1)\n17  0.184184   (0, 2)\n18  0.177177   (0, 3)\n19  0.182182   (0, 4)\n20  0.168168   (0, 5)\n21  0.154154   (0, 6)\n22  0.176176   (0, 7)\n23  0.170170   (0, 8)\n24  0.172172   (0, 9)\n25  0.171171  (0, 10)",
      "text/html": "<div>\n<style scoped>\n    .dataframe tbody tr th:only-of-type {\n        vertical-align: middle;\n    }\n\n    .dataframe tbody tr th {\n        vertical-align: top;\n    }\n\n    .dataframe thead th {\n        text-align: right;\n    }\n</style>\n<table border=\"1\" class=\"dataframe\">\n  <thead>\n    <tr style=\"text-align: right;\">\n      <th></th>\n      <th>support</th>\n      <th>itemsets</th>\n    </tr>\n  </thead>\n  <tbody>\n    <tr>\n      <th>1</th>\n      <td>0.407407</td>\n      <td>(1)</td>\n    </tr>\n    <tr>\n      <th>2</th>\n      <td>0.400400</td>\n      <td>(2)</td>\n    </tr>\n    <tr>\n      <th>3</th>\n      <td>0.398398</td>\n      <td>(3)</td>\n    </tr>\n    <tr>\n      <th>4</th>\n      <td>0.390390</td>\n      <td>(4)</td>\n    </tr>\n    <tr>\n      <th>5</th>\n      <td>0.378378</td>\n      <td>(5)</td>\n    </tr>\n    <tr>\n      <th>6</th>\n      <td>0.378378</td>\n      <td>(6)</td>\n    </tr>\n    <tr>\n      <th>7</th>\n      <td>0.408408</td>\n      <td>(7)</td>\n    </tr>\n    <tr>\n      <th>8</th>\n      <td>0.376376</td>\n      <td>(8)</td>\n    </tr>\n    <tr>\n      <th>9</th>\n      <td>0.431431</td>\n      <td>(9)</td>\n    </tr>\n    <tr>\n      <th>10</th>\n      <td>0.411411</td>\n      <td>(10)</td>\n    </tr>\n    <tr>\n      <th>11</th>\n      <td>0.401401</td>\n      <td>(11)</td>\n    </tr>\n    <tr>\n      <th>12</th>\n      <td>0.400400</td>\n      <td>(12)</td>\n    </tr>\n    <tr>\n      <th>13</th>\n      <td>0.381381</td>\n      <td>(13)</td>\n    </tr>\n    <tr>\n      <th>14</th>\n      <td>0.414414</td>\n      <td>(14)</td>\n    </tr>\n    <tr>\n      <th>15</th>\n      <td>0.399399</td>\n      <td>(15)</td>\n    </tr>\n    <tr>\n      <th>16</th>\n      <td>0.174174</td>\n      <td>(0, 1)</td>\n    </tr>\n    <tr>\n      <th>17</th>\n      <td>0.184184</td>\n      <td>(0, 2)</td>\n    </tr>\n    <tr>\n      <th>18</th>\n      <td>0.177177</td>\n      <td>(0, 3)</td>\n    </tr>\n    <tr>\n      <th>19</th>\n      <td>0.182182</td>\n      <td>(0, 4)</td>\n    </tr>\n    <tr>\n      <th>20</th>\n      <td>0.168168</td>\n      <td>(0, 5)</td>\n    </tr>\n    <tr>\n      <th>21</th>\n      <td>0.154154</td>\n      <td>(0, 6)</td>\n    </tr>\n    <tr>\n      <th>22</th>\n      <td>0.176176</td>\n      <td>(0, 7)</td>\n    </tr>\n    <tr>\n      <th>23</th>\n      <td>0.170170</td>\n      <td>(0, 8)</td>\n    </tr>\n    <tr>\n      <th>24</th>\n      <td>0.172172</td>\n      <td>(0, 9)</td>\n    </tr>\n    <tr>\n      <th>25</th>\n      <td>0.171171</td>\n      <td>(0, 10)</td>\n    </tr>\n  </tbody>\n</table>\n</div>"
     },
     "metadata": {},
     "execution_count": 58
    }
   ],
   "source": [
    "apriori(df, min_support=0.15)[1:26]"
   ]
  },
  {
   "cell_type": "code",
   "execution_count": 59,
   "metadata": {},
   "outputs": [
    {
     "output_type": "stream",
     "name": "stdout",
     "text": "Kural Sayısı: 136\n"
    }
   ],
   "source": [
    "print(\"Kural Sayısı:\", len(apriori(df, min_support=0.15)))"
   ]
  },
  {
   "cell_type": "code",
   "execution_count": 60,
   "metadata": {},
   "outputs": [
    {
     "output_type": "execute_result",
     "data": {
      "text/plain": "     support           itemsets\n1   0.407407         (Dondurma)\n2   0.400400            (Ekmek)\n3   0.398398             (Elma)\n4   0.390390            (Mısır)\n5   0.378378           (Nugget)\n6   0.378378           (Peynir)\n7   0.408408            (Soğan)\n8   0.376376              (Süt)\n9   0.431431          (Tereyağ)\n10  0.411411           (Yoğurt)\n11  0.401401          (Yumurta)\n12  0.400400           (Zeytin)\n13  0.381381         (Çikolata)\n14  0.414414            (Çilek)\n15  0.399399            (Şeker)\n16  0.174174  (Dondurma, Armut)\n17  0.184184     (Ekmek, Armut)\n18  0.177177      (Armut, Elma)\n19  0.182182     (Mısır, Armut)\n20  0.168168    (Armut, Nugget)\n21  0.154154    (Armut, Peynir)\n22  0.176176     (Soğan, Armut)\n23  0.170170       (Armut, Süt)\n24  0.172172   (Armut, Tereyağ)\n25  0.171171    (Armut, Yoğurt)",
      "text/html": "<div>\n<style scoped>\n    .dataframe tbody tr th:only-of-type {\n        vertical-align: middle;\n    }\n\n    .dataframe tbody tr th {\n        vertical-align: top;\n    }\n\n    .dataframe thead th {\n        text-align: right;\n    }\n</style>\n<table border=\"1\" class=\"dataframe\">\n  <thead>\n    <tr style=\"text-align: right;\">\n      <th></th>\n      <th>support</th>\n      <th>itemsets</th>\n    </tr>\n  </thead>\n  <tbody>\n    <tr>\n      <th>1</th>\n      <td>0.407407</td>\n      <td>(Dondurma)</td>\n    </tr>\n    <tr>\n      <th>2</th>\n      <td>0.400400</td>\n      <td>(Ekmek)</td>\n    </tr>\n    <tr>\n      <th>3</th>\n      <td>0.398398</td>\n      <td>(Elma)</td>\n    </tr>\n    <tr>\n      <th>4</th>\n      <td>0.390390</td>\n      <td>(Mısır)</td>\n    </tr>\n    <tr>\n      <th>5</th>\n      <td>0.378378</td>\n      <td>(Nugget)</td>\n    </tr>\n    <tr>\n      <th>6</th>\n      <td>0.378378</td>\n      <td>(Peynir)</td>\n    </tr>\n    <tr>\n      <th>7</th>\n      <td>0.408408</td>\n      <td>(Soğan)</td>\n    </tr>\n    <tr>\n      <th>8</th>\n      <td>0.376376</td>\n      <td>(Süt)</td>\n    </tr>\n    <tr>\n      <th>9</th>\n      <td>0.431431</td>\n      <td>(Tereyağ)</td>\n    </tr>\n    <tr>\n      <th>10</th>\n      <td>0.411411</td>\n      <td>(Yoğurt)</td>\n    </tr>\n    <tr>\n      <th>11</th>\n      <td>0.401401</td>\n      <td>(Yumurta)</td>\n    </tr>\n    <tr>\n      <th>12</th>\n      <td>0.400400</td>\n      <td>(Zeytin)</td>\n    </tr>\n    <tr>\n      <th>13</th>\n      <td>0.381381</td>\n      <td>(Çikolata)</td>\n    </tr>\n    <tr>\n      <th>14</th>\n      <td>0.414414</td>\n      <td>(Çilek)</td>\n    </tr>\n    <tr>\n      <th>15</th>\n      <td>0.399399</td>\n      <td>(Şeker)</td>\n    </tr>\n    <tr>\n      <th>16</th>\n      <td>0.174174</td>\n      <td>(Dondurma, Armut)</td>\n    </tr>\n    <tr>\n      <th>17</th>\n      <td>0.184184</td>\n      <td>(Ekmek, Armut)</td>\n    </tr>\n    <tr>\n      <th>18</th>\n      <td>0.177177</td>\n      <td>(Armut, Elma)</td>\n    </tr>\n    <tr>\n      <th>19</th>\n      <td>0.182182</td>\n      <td>(Mısır, Armut)</td>\n    </tr>\n    <tr>\n      <th>20</th>\n      <td>0.168168</td>\n      <td>(Armut, Nugget)</td>\n    </tr>\n    <tr>\n      <th>21</th>\n      <td>0.154154</td>\n      <td>(Armut, Peynir)</td>\n    </tr>\n    <tr>\n      <th>22</th>\n      <td>0.176176</td>\n      <td>(Soğan, Armut)</td>\n    </tr>\n    <tr>\n      <th>23</th>\n      <td>0.170170</td>\n      <td>(Armut, Süt)</td>\n    </tr>\n    <tr>\n      <th>24</th>\n      <td>0.172172</td>\n      <td>(Armut, Tereyağ)</td>\n    </tr>\n    <tr>\n      <th>25</th>\n      <td>0.171171</td>\n      <td>(Armut, Yoğurt)</td>\n    </tr>\n  </tbody>\n</table>\n</div>"
     },
     "metadata": {},
     "execution_count": 60
    }
   ],
   "source": [
    "apriori(df, min_support=0.15, use_colnames=True)[1:26]"
   ]
  },
  {
   "cell_type": "code",
   "execution_count": 61,
   "metadata": {},
   "outputs": [],
   "source": [
    "frequent_itemsets = apriori(df, min_support=0.15, use_colnames=True)\n",
    "\n",
    "# frequent_itemsets\n",
    "# association_rules(frequent_itemsets, metric=\"confidence\", min_threshold=0.30)\n",
    "\n",
    "rules1 = association_rules(frequent_itemsets, metric=\"confidence\", min_threshold=0.30)"
   ]
  },
  {
   "cell_type": "code",
   "execution_count": 62,
   "metadata": {},
   "outputs": [
    {
     "output_type": "stream",
     "name": "stdout",
     "text": "Oluşan Kural Sayısı: 240\n"
    }
   ],
   "source": [
    "print(\"Oluşan Kural Sayısı:\", len(rules1))"
   ]
  },
  {
   "cell_type": "code",
   "execution_count": 63,
   "metadata": {},
   "outputs": [
    {
     "output_type": "execute_result",
     "data": {
      "text/plain": "    antecedents consequents  antecedent support  consequent support   support  \\\n167    (Peynir)     (Şeker)            0.378378            0.399399  0.198198   \n116     (Mısır)   (Tereyağ)            0.390390            0.431431  0.196196   \n201   (Yumurta)   (Tereyağ)            0.401401            0.431431  0.200200   \n113     (Mısır)     (Soğan)            0.390390            0.408408  0.194194   \n127     (Mısır)     (Çilek)            0.390390            0.414414  0.194194   \n166     (Şeker)    (Peynir)            0.399399            0.378378  0.198198   \n37     (Nugget)  (Dondurma)            0.378378            0.407407  0.187187   \n155    (Peynir)   (Tereyağ)            0.378378            0.431431  0.186186   \n3       (Armut)     (Ekmek)            0.374374            0.400400  0.184184   \n179  (Çikolata)     (Soğan)            0.381381            0.408408  0.187187   \n\n     confidence      lift  leverage  conviction  \n167    0.523810  1.311493  0.047074    1.261261  \n116    0.502564  1.164876  0.027770    1.142999  \n201    0.498753  1.156043  0.027023    1.134308  \n113    0.497436  1.217986  0.034755    1.177147  \n127    0.497436  1.200334  0.032411    1.165196  \n166    0.496241  1.311493  0.047074    1.233965  \n37     0.494709  1.214286  0.033033    1.172775  \n155    0.492063  1.140537  0.022942    1.119369  \n3      0.491979  1.228717  0.034285    1.180264  \n179    0.490814  1.201772  0.031428    1.161837  ",
      "text/html": "<div>\n<style scoped>\n    .dataframe tbody tr th:only-of-type {\n        vertical-align: middle;\n    }\n\n    .dataframe tbody tr th {\n        vertical-align: top;\n    }\n\n    .dataframe thead th {\n        text-align: right;\n    }\n</style>\n<table border=\"1\" class=\"dataframe\">\n  <thead>\n    <tr style=\"text-align: right;\">\n      <th></th>\n      <th>antecedents</th>\n      <th>consequents</th>\n      <th>antecedent support</th>\n      <th>consequent support</th>\n      <th>support</th>\n      <th>confidence</th>\n      <th>lift</th>\n      <th>leverage</th>\n      <th>conviction</th>\n    </tr>\n  </thead>\n  <tbody>\n    <tr>\n      <th>167</th>\n      <td>(Peynir)</td>\n      <td>(Şeker)</td>\n      <td>0.378378</td>\n      <td>0.399399</td>\n      <td>0.198198</td>\n      <td>0.523810</td>\n      <td>1.311493</td>\n      <td>0.047074</td>\n      <td>1.261261</td>\n    </tr>\n    <tr>\n      <th>116</th>\n      <td>(Mısır)</td>\n      <td>(Tereyağ)</td>\n      <td>0.390390</td>\n      <td>0.431431</td>\n      <td>0.196196</td>\n      <td>0.502564</td>\n      <td>1.164876</td>\n      <td>0.027770</td>\n      <td>1.142999</td>\n    </tr>\n    <tr>\n      <th>201</th>\n      <td>(Yumurta)</td>\n      <td>(Tereyağ)</td>\n      <td>0.401401</td>\n      <td>0.431431</td>\n      <td>0.200200</td>\n      <td>0.498753</td>\n      <td>1.156043</td>\n      <td>0.027023</td>\n      <td>1.134308</td>\n    </tr>\n    <tr>\n      <th>113</th>\n      <td>(Mısır)</td>\n      <td>(Soğan)</td>\n      <td>0.390390</td>\n      <td>0.408408</td>\n      <td>0.194194</td>\n      <td>0.497436</td>\n      <td>1.217986</td>\n      <td>0.034755</td>\n      <td>1.177147</td>\n    </tr>\n    <tr>\n      <th>127</th>\n      <td>(Mısır)</td>\n      <td>(Çilek)</td>\n      <td>0.390390</td>\n      <td>0.414414</td>\n      <td>0.194194</td>\n      <td>0.497436</td>\n      <td>1.200334</td>\n      <td>0.032411</td>\n      <td>1.165196</td>\n    </tr>\n    <tr>\n      <th>166</th>\n      <td>(Şeker)</td>\n      <td>(Peynir)</td>\n      <td>0.399399</td>\n      <td>0.378378</td>\n      <td>0.198198</td>\n      <td>0.496241</td>\n      <td>1.311493</td>\n      <td>0.047074</td>\n      <td>1.233965</td>\n    </tr>\n    <tr>\n      <th>37</th>\n      <td>(Nugget)</td>\n      <td>(Dondurma)</td>\n      <td>0.378378</td>\n      <td>0.407407</td>\n      <td>0.187187</td>\n      <td>0.494709</td>\n      <td>1.214286</td>\n      <td>0.033033</td>\n      <td>1.172775</td>\n    </tr>\n    <tr>\n      <th>155</th>\n      <td>(Peynir)</td>\n      <td>(Tereyağ)</td>\n      <td>0.378378</td>\n      <td>0.431431</td>\n      <td>0.186186</td>\n      <td>0.492063</td>\n      <td>1.140537</td>\n      <td>0.022942</td>\n      <td>1.119369</td>\n    </tr>\n    <tr>\n      <th>3</th>\n      <td>(Armut)</td>\n      <td>(Ekmek)</td>\n      <td>0.374374</td>\n      <td>0.400400</td>\n      <td>0.184184</td>\n      <td>0.491979</td>\n      <td>1.228717</td>\n      <td>0.034285</td>\n      <td>1.180264</td>\n    </tr>\n    <tr>\n      <th>179</th>\n      <td>(Çikolata)</td>\n      <td>(Soğan)</td>\n      <td>0.381381</td>\n      <td>0.408408</td>\n      <td>0.187187</td>\n      <td>0.490814</td>\n      <td>1.201772</td>\n      <td>0.031428</td>\n      <td>1.161837</td>\n    </tr>\n  </tbody>\n</table>\n</div>"
     },
     "metadata": {},
     "execution_count": 63
    }
   ],
   "source": [
    "rules1 = rules1.sort_values(['confidence'], ascending=False)\n",
    "\n",
    "rules1[1:11]"
   ]
  },
  {
   "cell_type": "code",
   "execution_count": 64,
   "metadata": {},
   "outputs": [
    {
     "output_type": "execute_result",
     "data": {
      "text/plain": "    antecedents consequents  antecedent support  consequent support   support  \\\n167    (Peynir)     (Şeker)            0.378378            0.399399  0.198198   \n116     (Mısır)   (Tereyağ)            0.390390            0.431431  0.196196   \n201   (Yumurta)   (Tereyağ)            0.401401            0.431431  0.200200   \n113     (Mısır)     (Soğan)            0.390390            0.408408  0.194194   \n127     (Mısır)     (Çilek)            0.390390            0.414414  0.194194   \n\n     confidence      lift  leverage  conviction  antecedent_len  \\\n167    0.523810  1.311493  0.047074    1.261261               1   \n116    0.502564  1.164876  0.027770    1.142999               1   \n201    0.498753  1.156043  0.027023    1.134308               1   \n113    0.497436  1.217986  0.034755    1.177147               1   \n127    0.497436  1.200334  0.032411    1.165196               1   \n\n     consequents_len  \n167                1  \n116                1  \n201                1  \n113                1  \n127                1  ",
      "text/html": "<div>\n<style scoped>\n    .dataframe tbody tr th:only-of-type {\n        vertical-align: middle;\n    }\n\n    .dataframe tbody tr th {\n        vertical-align: top;\n    }\n\n    .dataframe thead th {\n        text-align: right;\n    }\n</style>\n<table border=\"1\" class=\"dataframe\">\n  <thead>\n    <tr style=\"text-align: right;\">\n      <th></th>\n      <th>antecedents</th>\n      <th>consequents</th>\n      <th>antecedent support</th>\n      <th>consequent support</th>\n      <th>support</th>\n      <th>confidence</th>\n      <th>lift</th>\n      <th>leverage</th>\n      <th>conviction</th>\n      <th>antecedent_len</th>\n      <th>consequents_len</th>\n    </tr>\n  </thead>\n  <tbody>\n    <tr>\n      <th>167</th>\n      <td>(Peynir)</td>\n      <td>(Şeker)</td>\n      <td>0.378378</td>\n      <td>0.399399</td>\n      <td>0.198198</td>\n      <td>0.523810</td>\n      <td>1.311493</td>\n      <td>0.047074</td>\n      <td>1.261261</td>\n      <td>1</td>\n      <td>1</td>\n    </tr>\n    <tr>\n      <th>116</th>\n      <td>(Mısır)</td>\n      <td>(Tereyağ)</td>\n      <td>0.390390</td>\n      <td>0.431431</td>\n      <td>0.196196</td>\n      <td>0.502564</td>\n      <td>1.164876</td>\n      <td>0.027770</td>\n      <td>1.142999</td>\n      <td>1</td>\n      <td>1</td>\n    </tr>\n    <tr>\n      <th>201</th>\n      <td>(Yumurta)</td>\n      <td>(Tereyağ)</td>\n      <td>0.401401</td>\n      <td>0.431431</td>\n      <td>0.200200</td>\n      <td>0.498753</td>\n      <td>1.156043</td>\n      <td>0.027023</td>\n      <td>1.134308</td>\n      <td>1</td>\n      <td>1</td>\n    </tr>\n    <tr>\n      <th>113</th>\n      <td>(Mısır)</td>\n      <td>(Soğan)</td>\n      <td>0.390390</td>\n      <td>0.408408</td>\n      <td>0.194194</td>\n      <td>0.497436</td>\n      <td>1.217986</td>\n      <td>0.034755</td>\n      <td>1.177147</td>\n      <td>1</td>\n      <td>1</td>\n    </tr>\n    <tr>\n      <th>127</th>\n      <td>(Mısır)</td>\n      <td>(Çilek)</td>\n      <td>0.390390</td>\n      <td>0.414414</td>\n      <td>0.194194</td>\n      <td>0.497436</td>\n      <td>1.200334</td>\n      <td>0.032411</td>\n      <td>1.165196</td>\n      <td>1</td>\n      <td>1</td>\n    </tr>\n  </tbody>\n</table>\n</div>"
     },
     "metadata": {},
     "execution_count": 64
    }
   ],
   "source": [
    "rules1[\"antecedent_len\"] = rules1[\"antecedents\"].apply(lambda x: len(x))\n",
    "rules1[\"consequents_len\"] = rules1[\"consequents\"].apply(lambda x: len(x))\n",
    "rules1[1:6]"
   ]
  },
  {
   "cell_type": "code",
   "execution_count": 65,
   "metadata": {},
   "outputs": [
    {
     "output_type": "execute_result",
     "data": {
      "text/plain": "    antecedents consequents  antecedent support  consequent support   support  \\\n165    (Peynir)     (Şeker)            0.378378            0.399399  0.198198   \n6       (Mısır)     (Armut)            0.390390            0.374374  0.182182   \n7       (Armut)     (Mısır)            0.374374            0.390390  0.182182   \n191       (Süt)  (Çikolata)            0.376376            0.381381  0.177177   \n190  (Çikolata)       (Süt)            0.381381            0.376376  0.177177   \n\n     confidence      lift  leverage  conviction  \n165    0.523810  1.311493  0.047074    1.261261  \n6      0.466667  1.246524  0.036030    1.173048  \n7      0.486631  1.246524  0.036030    1.187469  \n191    0.470745  1.234315  0.033634    1.168847  \n190    0.464567  1.234315  0.033634    1.164709  ",
      "text/html": "<div>\n<style scoped>\n    .dataframe tbody tr th:only-of-type {\n        vertical-align: middle;\n    }\n\n    .dataframe tbody tr th {\n        vertical-align: top;\n    }\n\n    .dataframe thead th {\n        text-align: right;\n    }\n</style>\n<table border=\"1\" class=\"dataframe\">\n  <thead>\n    <tr style=\"text-align: right;\">\n      <th></th>\n      <th>antecedents</th>\n      <th>consequents</th>\n      <th>antecedent support</th>\n      <th>consequent support</th>\n      <th>support</th>\n      <th>confidence</th>\n      <th>lift</th>\n      <th>leverage</th>\n      <th>conviction</th>\n    </tr>\n  </thead>\n  <tbody>\n    <tr>\n      <th>165</th>\n      <td>(Peynir)</td>\n      <td>(Şeker)</td>\n      <td>0.378378</td>\n      <td>0.399399</td>\n      <td>0.198198</td>\n      <td>0.523810</td>\n      <td>1.311493</td>\n      <td>0.047074</td>\n      <td>1.261261</td>\n    </tr>\n    <tr>\n      <th>6</th>\n      <td>(Mısır)</td>\n      <td>(Armut)</td>\n      <td>0.390390</td>\n      <td>0.374374</td>\n      <td>0.182182</td>\n      <td>0.466667</td>\n      <td>1.246524</td>\n      <td>0.036030</td>\n      <td>1.173048</td>\n    </tr>\n    <tr>\n      <th>7</th>\n      <td>(Armut)</td>\n      <td>(Mısır)</td>\n      <td>0.374374</td>\n      <td>0.390390</td>\n      <td>0.182182</td>\n      <td>0.486631</td>\n      <td>1.246524</td>\n      <td>0.036030</td>\n      <td>1.187469</td>\n    </tr>\n    <tr>\n      <th>191</th>\n      <td>(Süt)</td>\n      <td>(Çikolata)</td>\n      <td>0.376376</td>\n      <td>0.381381</td>\n      <td>0.177177</td>\n      <td>0.470745</td>\n      <td>1.234315</td>\n      <td>0.033634</td>\n      <td>1.168847</td>\n    </tr>\n    <tr>\n      <th>190</th>\n      <td>(Çikolata)</td>\n      <td>(Süt)</td>\n      <td>0.381381</td>\n      <td>0.376376</td>\n      <td>0.177177</td>\n      <td>0.464567</td>\n      <td>1.234315</td>\n      <td>0.033634</td>\n      <td>1.164709</td>\n    </tr>\n  </tbody>\n</table>\n</div>"
     },
     "metadata": {},
     "execution_count": 65
    }
   ],
   "source": [
    "rules2 = association_rules(frequent_itemsets, metric=\"lift\", min_threshold=1)\n",
    "\n",
    "rules2 = rules2.sort_values(['lift'], ascending=False)\n",
    "\n",
    "rules2[1:6]"
   ]
  },
  {
   "cell_type": "code",
   "execution_count": 66,
   "metadata": {},
   "outputs": [
    {
     "output_type": "execute_result",
     "data": {
      "text/plain": "    antecedents consequents  antecedent support  consequent support   support  \\\n165    (Peynir)     (Şeker)            0.378378            0.399399  0.198198   \n6       (Mısır)     (Armut)            0.390390            0.374374  0.182182   \n7       (Armut)     (Mısır)            0.374374            0.390390  0.182182   \n191       (Süt)  (Çikolata)            0.376376            0.381381  0.177177   \n190  (Çikolata)       (Süt)            0.381381            0.376376  0.177177   \n\n     confidence      lift  leverage  conviction  antecedent_len  \\\n165    0.523810  1.311493  0.047074    1.261261               1   \n6      0.466667  1.246524  0.036030    1.173048               1   \n7      0.486631  1.246524  0.036030    1.187469               1   \n191    0.470745  1.234315  0.033634    1.168847               1   \n190    0.464567  1.234315  0.033634    1.164709               1   \n\n     consequents_len  \n165                1  \n6                  1  \n7                  1  \n191                1  \n190                1  ",
      "text/html": "<div>\n<style scoped>\n    .dataframe tbody tr th:only-of-type {\n        vertical-align: middle;\n    }\n\n    .dataframe tbody tr th {\n        vertical-align: top;\n    }\n\n    .dataframe thead th {\n        text-align: right;\n    }\n</style>\n<table border=\"1\" class=\"dataframe\">\n  <thead>\n    <tr style=\"text-align: right;\">\n      <th></th>\n      <th>antecedents</th>\n      <th>consequents</th>\n      <th>antecedent support</th>\n      <th>consequent support</th>\n      <th>support</th>\n      <th>confidence</th>\n      <th>lift</th>\n      <th>leverage</th>\n      <th>conviction</th>\n      <th>antecedent_len</th>\n      <th>consequents_len</th>\n    </tr>\n  </thead>\n  <tbody>\n    <tr>\n      <th>165</th>\n      <td>(Peynir)</td>\n      <td>(Şeker)</td>\n      <td>0.378378</td>\n      <td>0.399399</td>\n      <td>0.198198</td>\n      <td>0.523810</td>\n      <td>1.311493</td>\n      <td>0.047074</td>\n      <td>1.261261</td>\n      <td>1</td>\n      <td>1</td>\n    </tr>\n    <tr>\n      <th>6</th>\n      <td>(Mısır)</td>\n      <td>(Armut)</td>\n      <td>0.390390</td>\n      <td>0.374374</td>\n      <td>0.182182</td>\n      <td>0.466667</td>\n      <td>1.246524</td>\n      <td>0.036030</td>\n      <td>1.173048</td>\n      <td>1</td>\n      <td>1</td>\n    </tr>\n    <tr>\n      <th>7</th>\n      <td>(Armut)</td>\n      <td>(Mısır)</td>\n      <td>0.374374</td>\n      <td>0.390390</td>\n      <td>0.182182</td>\n      <td>0.486631</td>\n      <td>1.246524</td>\n      <td>0.036030</td>\n      <td>1.187469</td>\n      <td>1</td>\n      <td>1</td>\n    </tr>\n    <tr>\n      <th>191</th>\n      <td>(Süt)</td>\n      <td>(Çikolata)</td>\n      <td>0.376376</td>\n      <td>0.381381</td>\n      <td>0.177177</td>\n      <td>0.470745</td>\n      <td>1.234315</td>\n      <td>0.033634</td>\n      <td>1.168847</td>\n      <td>1</td>\n      <td>1</td>\n    </tr>\n    <tr>\n      <th>190</th>\n      <td>(Çikolata)</td>\n      <td>(Süt)</td>\n      <td>0.381381</td>\n      <td>0.376376</td>\n      <td>0.177177</td>\n      <td>0.464567</td>\n      <td>1.234315</td>\n      <td>0.033634</td>\n      <td>1.164709</td>\n      <td>1</td>\n      <td>1</td>\n    </tr>\n  </tbody>\n</table>\n</div>"
     },
     "metadata": {},
     "execution_count": 66
    }
   ],
   "source": [
    "rules2[\"antecedent_len\"] = rules2[\"antecedents\"].apply(lambda x: len(x))\n",
    "\n",
    "rules2[\"consequents_len\"] = rules2[\"consequents\"].apply(lambda x: len(x))\n",
    "\n",
    "rules2[1:6]\n"
   ]
  },
  {
   "cell_type": "code",
   "execution_count": 67,
   "metadata": {},
   "outputs": [
    {
     "output_type": "execute_result",
     "data": {
      "text/plain": "    antecedents consequents  antecedent support  consequent support   support  \\\n167    (Peynir)     (Şeker)            0.378378            0.399399  0.198198   \n116     (Mısır)   (Tereyağ)            0.390390            0.431431  0.196196   \n201   (Yumurta)   (Tereyağ)            0.401401            0.431431  0.200200   \n113     (Mısır)     (Soğan)            0.390390            0.408408  0.194194   \n127     (Mısır)     (Çilek)            0.390390            0.414414  0.194194   \n166     (Şeker)    (Peynir)            0.399399            0.378378  0.198198   \n37     (Nugget)  (Dondurma)            0.378378            0.407407  0.187187   \n155    (Peynir)   (Tereyağ)            0.378378            0.431431  0.186186   \n3       (Armut)     (Ekmek)            0.374374            0.400400  0.184184   \n\n     confidence      lift  leverage  conviction  antecedent_len  \\\n167    0.523810  1.311493  0.047074    1.261261               1   \n116    0.502564  1.164876  0.027770    1.142999               1   \n201    0.498753  1.156043  0.027023    1.134308               1   \n113    0.497436  1.217986  0.034755    1.177147               1   \n127    0.497436  1.200334  0.032411    1.165196               1   \n166    0.496241  1.311493  0.047074    1.233965               1   \n37     0.494709  1.214286  0.033033    1.172775               1   \n155    0.492063  1.140537  0.022942    1.119369               1   \n3      0.491979  1.228717  0.034285    1.180264               1   \n\n     consequents_len  \n167                1  \n116                1  \n201                1  \n113                1  \n127                1  \n166                1  \n37                 1  \n155                1  \n3                  1  ",
      "text/html": "<div>\n<style scoped>\n    .dataframe tbody tr th:only-of-type {\n        vertical-align: middle;\n    }\n\n    .dataframe tbody tr th {\n        vertical-align: top;\n    }\n\n    .dataframe thead th {\n        text-align: right;\n    }\n</style>\n<table border=\"1\" class=\"dataframe\">\n  <thead>\n    <tr style=\"text-align: right;\">\n      <th></th>\n      <th>antecedents</th>\n      <th>consequents</th>\n      <th>antecedent support</th>\n      <th>consequent support</th>\n      <th>support</th>\n      <th>confidence</th>\n      <th>lift</th>\n      <th>leverage</th>\n      <th>conviction</th>\n      <th>antecedent_len</th>\n      <th>consequents_len</th>\n    </tr>\n  </thead>\n  <tbody>\n    <tr>\n      <th>167</th>\n      <td>(Peynir)</td>\n      <td>(Şeker)</td>\n      <td>0.378378</td>\n      <td>0.399399</td>\n      <td>0.198198</td>\n      <td>0.523810</td>\n      <td>1.311493</td>\n      <td>0.047074</td>\n      <td>1.261261</td>\n      <td>1</td>\n      <td>1</td>\n    </tr>\n    <tr>\n      <th>116</th>\n      <td>(Mısır)</td>\n      <td>(Tereyağ)</td>\n      <td>0.390390</td>\n      <td>0.431431</td>\n      <td>0.196196</td>\n      <td>0.502564</td>\n      <td>1.164876</td>\n      <td>0.027770</td>\n      <td>1.142999</td>\n      <td>1</td>\n      <td>1</td>\n    </tr>\n    <tr>\n      <th>201</th>\n      <td>(Yumurta)</td>\n      <td>(Tereyağ)</td>\n      <td>0.401401</td>\n      <td>0.431431</td>\n      <td>0.200200</td>\n      <td>0.498753</td>\n      <td>1.156043</td>\n      <td>0.027023</td>\n      <td>1.134308</td>\n      <td>1</td>\n      <td>1</td>\n    </tr>\n    <tr>\n      <th>113</th>\n      <td>(Mısır)</td>\n      <td>(Soğan)</td>\n      <td>0.390390</td>\n      <td>0.408408</td>\n      <td>0.194194</td>\n      <td>0.497436</td>\n      <td>1.217986</td>\n      <td>0.034755</td>\n      <td>1.177147</td>\n      <td>1</td>\n      <td>1</td>\n    </tr>\n    <tr>\n      <th>127</th>\n      <td>(Mısır)</td>\n      <td>(Çilek)</td>\n      <td>0.390390</td>\n      <td>0.414414</td>\n      <td>0.194194</td>\n      <td>0.497436</td>\n      <td>1.200334</td>\n      <td>0.032411</td>\n      <td>1.165196</td>\n      <td>1</td>\n      <td>1</td>\n    </tr>\n    <tr>\n      <th>166</th>\n      <td>(Şeker)</td>\n      <td>(Peynir)</td>\n      <td>0.399399</td>\n      <td>0.378378</td>\n      <td>0.198198</td>\n      <td>0.496241</td>\n      <td>1.311493</td>\n      <td>0.047074</td>\n      <td>1.233965</td>\n      <td>1</td>\n      <td>1</td>\n    </tr>\n    <tr>\n      <th>37</th>\n      <td>(Nugget)</td>\n      <td>(Dondurma)</td>\n      <td>0.378378</td>\n      <td>0.407407</td>\n      <td>0.187187</td>\n      <td>0.494709</td>\n      <td>1.214286</td>\n      <td>0.033033</td>\n      <td>1.172775</td>\n      <td>1</td>\n      <td>1</td>\n    </tr>\n    <tr>\n      <th>155</th>\n      <td>(Peynir)</td>\n      <td>(Tereyağ)</td>\n      <td>0.378378</td>\n      <td>0.431431</td>\n      <td>0.186186</td>\n      <td>0.492063</td>\n      <td>1.140537</td>\n      <td>0.022942</td>\n      <td>1.119369</td>\n      <td>1</td>\n      <td>1</td>\n    </tr>\n    <tr>\n      <th>3</th>\n      <td>(Armut)</td>\n      <td>(Ekmek)</td>\n      <td>0.374374</td>\n      <td>0.400400</td>\n      <td>0.184184</td>\n      <td>0.491979</td>\n      <td>1.228717</td>\n      <td>0.034285</td>\n      <td>1.180264</td>\n      <td>1</td>\n      <td>1</td>\n    </tr>\n  </tbody>\n</table>\n</div>"
     },
     "metadata": {},
     "execution_count": 67
    }
   ],
   "source": [
    "rules1[(rules1['antecedent_len'] >= 1) &\n",
    "       (rules1['confidence'] >= 0.20) &\n",
    "       (rules1['lift'] > 1) ].sort_values(['confidence'], ascending=False)[1:10]"
   ]
  },
  {
   "cell_type": "code",
   "execution_count": 68,
   "metadata": {},
   "outputs": [
    {
     "output_type": "execute_result",
     "data": {
      "text/plain": "   antecedents consequents  antecedent support  consequent support   support  \\\n74     (Ekmek)   (Yumurta)              0.4004            0.401401  0.191191   \n82     (Ekmek)     (Şeker)              0.4004            0.399399  0.190190   \n67     (Ekmek)     (Soğan)              0.4004            0.408408  0.187187   \n2      (Ekmek)     (Armut)              0.4004            0.374374  0.184184   \n81     (Ekmek)     (Çilek)              0.4004            0.414414  0.180180   \n58     (Ekmek)      (Elma)              0.4004            0.398398  0.179179   \n72     (Ekmek)    (Yoğurt)              0.4004            0.411411  0.179179   \n70     (Ekmek)   (Tereyağ)              0.4004            0.431431  0.177177   \n68     (Ekmek)       (Süt)              0.4004            0.376376  0.177177   \n\n    confidence      lift  leverage  conviction  antecedent_len  \\\n74      0.4775  1.189582  0.030470    1.145643               1   \n82      0.4750  1.189286  0.030271    1.144001               1   \n67      0.4675  1.144687  0.023660    1.110970               1   \n2       0.4600  1.228717  0.034285    1.158566               1   \n81      0.4500  1.085870  0.014248    1.064701               1   \n58      0.4475  1.123247  0.019660    1.088872               1   \n72      0.4475  1.087719  0.014450    1.065319               1   \n70      0.4425  1.025655  0.004432    1.019854               1   \n68      0.4425  1.175685  0.026476    1.118607               1   \n\n    consequents_len  \n74                1  \n82                1  \n67                1  \n2                 1  \n81                1  \n58                1  \n72                1  \n70                1  \n68                1  ",
      "text/html": "<div>\n<style scoped>\n    .dataframe tbody tr th:only-of-type {\n        vertical-align: middle;\n    }\n\n    .dataframe tbody tr th {\n        vertical-align: top;\n    }\n\n    .dataframe thead th {\n        text-align: right;\n    }\n</style>\n<table border=\"1\" class=\"dataframe\">\n  <thead>\n    <tr style=\"text-align: right;\">\n      <th></th>\n      <th>antecedents</th>\n      <th>consequents</th>\n      <th>antecedent support</th>\n      <th>consequent support</th>\n      <th>support</th>\n      <th>confidence</th>\n      <th>lift</th>\n      <th>leverage</th>\n      <th>conviction</th>\n      <th>antecedent_len</th>\n      <th>consequents_len</th>\n    </tr>\n  </thead>\n  <tbody>\n    <tr>\n      <th>74</th>\n      <td>(Ekmek)</td>\n      <td>(Yumurta)</td>\n      <td>0.4004</td>\n      <td>0.401401</td>\n      <td>0.191191</td>\n      <td>0.4775</td>\n      <td>1.189582</td>\n      <td>0.030470</td>\n      <td>1.145643</td>\n      <td>1</td>\n      <td>1</td>\n    </tr>\n    <tr>\n      <th>82</th>\n      <td>(Ekmek)</td>\n      <td>(Şeker)</td>\n      <td>0.4004</td>\n      <td>0.399399</td>\n      <td>0.190190</td>\n      <td>0.4750</td>\n      <td>1.189286</td>\n      <td>0.030271</td>\n      <td>1.144001</td>\n      <td>1</td>\n      <td>1</td>\n    </tr>\n    <tr>\n      <th>67</th>\n      <td>(Ekmek)</td>\n      <td>(Soğan)</td>\n      <td>0.4004</td>\n      <td>0.408408</td>\n      <td>0.187187</td>\n      <td>0.4675</td>\n      <td>1.144687</td>\n      <td>0.023660</td>\n      <td>1.110970</td>\n      <td>1</td>\n      <td>1</td>\n    </tr>\n    <tr>\n      <th>2</th>\n      <td>(Ekmek)</td>\n      <td>(Armut)</td>\n      <td>0.4004</td>\n      <td>0.374374</td>\n      <td>0.184184</td>\n      <td>0.4600</td>\n      <td>1.228717</td>\n      <td>0.034285</td>\n      <td>1.158566</td>\n      <td>1</td>\n      <td>1</td>\n    </tr>\n    <tr>\n      <th>81</th>\n      <td>(Ekmek)</td>\n      <td>(Çilek)</td>\n      <td>0.4004</td>\n      <td>0.414414</td>\n      <td>0.180180</td>\n      <td>0.4500</td>\n      <td>1.085870</td>\n      <td>0.014248</td>\n      <td>1.064701</td>\n      <td>1</td>\n      <td>1</td>\n    </tr>\n    <tr>\n      <th>58</th>\n      <td>(Ekmek)</td>\n      <td>(Elma)</td>\n      <td>0.4004</td>\n      <td>0.398398</td>\n      <td>0.179179</td>\n      <td>0.4475</td>\n      <td>1.123247</td>\n      <td>0.019660</td>\n      <td>1.088872</td>\n      <td>1</td>\n      <td>1</td>\n    </tr>\n    <tr>\n      <th>72</th>\n      <td>(Ekmek)</td>\n      <td>(Yoğurt)</td>\n      <td>0.4004</td>\n      <td>0.411411</td>\n      <td>0.179179</td>\n      <td>0.4475</td>\n      <td>1.087719</td>\n      <td>0.014450</td>\n      <td>1.065319</td>\n      <td>1</td>\n      <td>1</td>\n    </tr>\n    <tr>\n      <th>70</th>\n      <td>(Ekmek)</td>\n      <td>(Tereyağ)</td>\n      <td>0.4004</td>\n      <td>0.431431</td>\n      <td>0.177177</td>\n      <td>0.4425</td>\n      <td>1.025655</td>\n      <td>0.004432</td>\n      <td>1.019854</td>\n      <td>1</td>\n      <td>1</td>\n    </tr>\n    <tr>\n      <th>68</th>\n      <td>(Ekmek)</td>\n      <td>(Süt)</td>\n      <td>0.4004</td>\n      <td>0.376376</td>\n      <td>0.177177</td>\n      <td>0.4425</td>\n      <td>1.175685</td>\n      <td>0.026476</td>\n      <td>1.118607</td>\n      <td>1</td>\n      <td>1</td>\n    </tr>\n  </tbody>\n</table>\n</div>"
     },
     "metadata": {},
     "execution_count": 68
    }
   ],
   "source": [
    "rules1[rules1['antecedents'] == {'Ekmek'}].sort_values(['confidence'], ascending=False)[1:10]"
   ]
  },
  {
   "cell_type": "code",
   "execution_count": null,
   "metadata": {},
   "outputs": [],
   "source": []
  }
 ],
 "metadata": {
  "kernelspec": {
   "display_name": "Python 3",
   "language": "python",
   "name": "python3"
  },
  "language_info": {
   "codemirror_mode": {
    "name": "ipython",
    "version": 3
   },
   "file_extension": ".py",
   "mimetype": "text/x-python",
   "name": "python",
   "nbconvert_exporter": "python",
   "pygments_lexer": "ipython3",
   "version": "3.7.6-final"
  }
 },
 "nbformat": 4,
 "nbformat_minor": 4
}